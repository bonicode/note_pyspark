{
  "nbformat": 4,
  "nbformat_minor": 0,
  "metadata": {
    "colab": {
      "name": "PySpark Note.ipynb",
      "provenance": [],
      "collapsed_sections": [],
      "authorship_tag": "ABX9TyPtNrGIBFOkCBaatGIb0xg2",
      "include_colab_link": true
    },
    "kernelspec": {
      "name": "python3",
      "display_name": "Python 3"
    },
    "language_info": {
      "name": "python"
    }
  },
  "cells": [
    {
      "cell_type": "markdown",
      "metadata": {
        "id": "view-in-github",
        "colab_type": "text"
      },
      "source": [
        "<a href=\"https://colab.research.google.com/github/bonioloff/note_pyspark/blob/main/PySpark_Note.ipynb\" target=\"_parent\"><img src=\"https://colab.research.google.com/assets/colab-badge.svg\" alt=\"Open In Colab\"/></a>"
      ]
    },
    {
      "cell_type": "markdown",
      "source": [
        "# Explanation on how Spark works:\n",
        "- https://stackoverflow.com/questions/32621990/what-are-workers-executors-cores-in-spark-standalone-cluster"
      ],
      "metadata": {
        "id": "Dzs68uSOlSTS"
      }
    },
    {
      "cell_type": "code",
      "source": [
        "# install the pyspark package\n",
        "!pip install pyspark"
      ],
      "metadata": {
        "id": "fUlx7fwBq6ck"
      },
      "execution_count": null,
      "outputs": []
    },
    {
      "cell_type": "code",
      "source": [
        "from pyspark import SparkConf, SparkContext"
      ],
      "metadata": {
        "id": "AjzjvFw_q_Qy"
      },
      "execution_count": 2,
      "outputs": []
    },
    {
      "cell_type": "code",
      "execution_count": 3,
      "metadata": {
        "id": "jINbbaLZqyyH"
      },
      "outputs": [],
      "source": [
        "# Initialize spark context\n",
        "conf = SparkConf().setMaster(\"local\").setAppName(\"Spark App\")\n",
        "sc = SparkContext(conf=conf)"
      ]
    },
    {
      "cell_type": "markdown",
      "source": [
        "# Resilient Distributed Dataset (RDD) Interface\n",
        "\n",
        "RDD can be used to store all types of data source:\n",
        "- Manual entry\n",
        "- textFile from local file, s3, hdfs, etc.\n",
        "- Hive\n",
        "- JDBC\n",
        "- Cassandra\n",
        "- HBase\n",
        "- ElasticSearch\n",
        "- JSON, etc"
      ],
      "metadata": {
        "id": "zWRlZpNW5yPz"
      }
    },
    {
      "cell_type": "code",
      "source": [
        "# Manual way to create RDD\n",
        "rdd = sc.parallelize([1,2,3,4])"
      ],
      "metadata": {
        "id": "e873UFpLqOiN"
      },
      "execution_count": 8,
      "outputs": []
    },
    {
      "cell_type": "code",
      "source": [
        "# Create RDD from text file\n",
        "rdd = sc.textFile(\"sample_data/california_housing_test.csv\")"
      ],
      "metadata": {
        "id": "chJADF0ZrNmx"
      },
      "execution_count": 13,
      "outputs": []
    },
    {
      "cell_type": "code",
      "source": [
        "# Show the first 5 rows\n",
        "rdd.take(5)\n",
        "# rdd.collect()"
      ],
      "metadata": {
        "colab": {
          "base_uri": "https://localhost:8080/"
        },
        "id": "5u6w2BA-up6p",
        "outputId": "51348b86-6fe7-4ebb-874f-29ac669992ee"
      },
      "execution_count": 14,
      "outputs": [
        {
          "output_type": "execute_result",
          "data": {
            "text/plain": [
              "['\"longitude\",\"latitude\",\"housing_median_age\",\"total_rooms\",\"total_bedrooms\",\"population\",\"households\",\"median_income\",\"median_house_value\"',\n",
              " '-122.050000,37.370000,27.000000,3885.000000,661.000000,1537.000000,606.000000,6.608500,344700.000000',\n",
              " '-118.300000,34.260000,43.000000,1510.000000,310.000000,809.000000,277.000000,3.599000,176500.000000',\n",
              " '-117.810000,33.780000,27.000000,3589.000000,507.000000,1484.000000,495.000000,5.793400,270500.000000',\n",
              " '-118.360000,33.820000,28.000000,67.000000,15.000000,49.000000,11.000000,6.135900,330000.000000']"
            ]
          },
          "metadata": {},
          "execution_count": 14
        }
      ]
    },
    {
      "cell_type": "code",
      "source": [
        "# flatMap()\n",
        "rdd.flatMap(lambda x: x.split(\",\")).take(10)"
      ],
      "metadata": {
        "colab": {
          "base_uri": "https://localhost:8080/"
        },
        "id": "8m4cqArnyqWs",
        "outputId": "178eeb04-7d7c-4cd5-d495-b448ef8bfdee"
      },
      "execution_count": 32,
      "outputs": [
        {
          "output_type": "execute_result",
          "data": {
            "text/plain": [
              "['\"longitude\"',\n",
              " '\"latitude\"',\n",
              " '\"housing_median_age\"',\n",
              " '\"total_rooms\"',\n",
              " '\"total_bedrooms\"',\n",
              " '\"population\"',\n",
              " '\"households\"',\n",
              " '\"median_income\"',\n",
              " '\"median_house_value\"',\n",
              " '-122.050000']"
            ]
          },
          "metadata": {},
          "execution_count": 32
        }
      ]
    },
    {
      "cell_type": "markdown",
      "source": [
        "## Basic Transformations with RDD\n",
        "These are the basic operations in rdd: \n",
        "- map, \n",
        "- flatmap, \n",
        "- filter, \n",
        "- distinct, \n",
        "- sample, \n",
        "- union, \n",
        "- intersection, \n",
        "- subtract, \n",
        "- cartesian\n",
        "\n",
        "_bykey_:\n",
        "- reduceByKey()\n",
        "- groupByKey()\n",
        "- sortByKey()\n",
        "- keys()\n",
        "- values()"
      ],
      "metadata": {
        "id": "zSJ9l-Gor9rT"
      }
    },
    {
      "cell_type": "markdown",
      "source": [
        "### Map\n",
        "This will do transformation on the data row by row."
      ],
      "metadata": {
        "id": "Xh1RmePjsBI0"
      }
    },
    {
      "cell_type": "code",
      "source": [
        "# map()\n",
        "income_vs_homevalue = rdd.map(lambda x: x.split(\",\")).map(lambda x: (x[-2], x[-1]))\n",
        "income_vs_homevalue.take(5)"
      ],
      "metadata": {
        "colab": {
          "base_uri": "https://localhost:8080/"
        },
        "id": "TVuuZ0LAr0-s",
        "outputId": "4b53abaf-c44a-423e-ebe7-95fbbbacd886"
      },
      "execution_count": 23,
      "outputs": [
        {
          "output_type": "execute_result",
          "data": {
            "text/plain": [
              "[('\"median_income\"', '\"median_house_value\"'),\n",
              " ('6.608500', '344700.000000'),\n",
              " ('3.599000', '176500.000000'),\n",
              " ('5.793400', '270500.000000'),\n",
              " ('6.135900', '330000.000000')]"
            ]
          },
          "metadata": {},
          "execution_count": 23
        }
      ]
    },
    {
      "cell_type": "code",
      "source": [
        "# reduceByKey()\n",
        "income_vs_homevalue.reduceByKey(lambda x, y: x + y).take(5)"
      ],
      "metadata": {
        "colab": {
          "base_uri": "https://localhost:8080/"
        },
        "id": "UUIzPmAzzWvk",
        "outputId": "e1356d9b-706c-4520-cceb-d85aefd79ccf"
      },
      "execution_count": 22,
      "outputs": [
        {
          "output_type": "execute_result",
          "data": {
            "text/plain": [
              "[('\"median_income\"', '\"median_house_value\"'),\n",
              " ('6.608500', '344700.000000'),\n",
              " ('3.599000', '176500.000000'),\n",
              " ('5.793400', '270500.000000'),\n",
              " ('6.135900', '330000.000000106300.000000225000.000000')]"
            ]
          },
          "metadata": {},
          "execution_count": 22
        }
      ]
    },
    {
      "cell_type": "code",
      "source": [
        "# keys()\n",
        "income_vs_homevalue.keys().take(5)"
      ],
      "metadata": {
        "colab": {
          "base_uri": "https://localhost:8080/"
        },
        "id": "_bkBZll00ABJ",
        "outputId": "b54d2ad0-844c-428d-d64c-c81cc7e1f3ab"
      },
      "execution_count": 24,
      "outputs": [
        {
          "output_type": "execute_result",
          "data": {
            "text/plain": [
              "['\"median_income\"', '6.608500', '3.599000', '5.793400', '6.135900']"
            ]
          },
          "metadata": {},
          "execution_count": 24
        }
      ]
    },
    {
      "cell_type": "code",
      "source": [
        "# values()\n",
        "income_vs_homevalue.values().take(5)"
      ],
      "metadata": {
        "colab": {
          "base_uri": "https://localhost:8080/"
        },
        "id": "Eb41-bEM0Hqs",
        "outputId": "4d211247-b94f-408f-c5f7-0babc9617fec"
      },
      "execution_count": 25,
      "outputs": [
        {
          "output_type": "execute_result",
          "data": {
            "text/plain": [
              "['\"median_house_value\"',\n",
              " '344700.000000',\n",
              " '176500.000000',\n",
              " '270500.000000',\n",
              " '330000.000000']"
            ]
          },
          "metadata": {},
          "execution_count": 25
        }
      ]
    },
    {
      "cell_type": "code",
      "source": [
        "# sortByKey()\n",
        "income_vs_homevalue.sortByKey().take(5)"
      ],
      "metadata": {
        "colab": {
          "base_uri": "https://localhost:8080/"
        },
        "id": "umhz9tuE0LX6",
        "outputId": "b201c054-feef-474b-e83f-68e04af952c1"
      },
      "execution_count": 34,
      "outputs": [
        {
          "output_type": "execute_result",
          "data": {
            "text/plain": [
              "[('\"median_income\"', '\"median_house_value\"'),\n",
              " ('0.499900', '500001.000000'),\n",
              " ('0.536000', '162500.000000'),\n",
              " ('0.536000', '275000.000000'),\n",
              " ('0.536000', '87500.000000')]"
            ]
          },
          "metadata": {},
          "execution_count": 34
        }
      ]
    },
    {
      "cell_type": "markdown",
      "source": [
        "# SparkSQL: DataFrame (DF) / Datasets"
      ],
      "metadata": {
        "id": "_5INzzJc54WQ"
      }
    },
    {
      "cell_type": "markdown",
      "source": [
        "Unlike RDD, DataFrame has some benefits:\n",
        "- Contains row objects\n",
        "- Can run sql\n",
        "- Can have schema\n",
        "- Can communicate JDBC and ODBC and Tableau\n",
        "\n",
        "Instead using SparkContext, DF lives in SparkSession.\n",
        "\n",
        "__Datasets__ are typed Dataframe, it's used in typed programming language like Scala and Java, but in Python that is untyped we can use DataFrame.\n",
        "\n",
        "Typed means we have to specifically tell what is the data type of the columns.\n"
      ],
      "metadata": {
        "id": "E0Bpcxye6Cob"
      }
    },
    {
      "cell_type": "code",
      "source": [
        "from pyspark.sql import SparkSession, Row"
      ],
      "metadata": {
        "id": "Oio7MqnjujNY"
      },
      "execution_count": 43,
      "outputs": []
    },
    {
      "cell_type": "code",
      "source": [
        "spark = SparkSession.builder.appName(\"SparkSQL\").getOrCreate()"
      ],
      "metadata": {
        "id": "2i-d5pmQ9SFT"
      },
      "execution_count": 50,
      "outputs": []
    },
    {
      "cell_type": "code",
      "source": [
        "inputData = spark.read.csv(\"sample_data/california_housing_test.csv\", header=True, inferSchema=True)"
      ],
      "metadata": {
        "id": "DWSPx4zD9mKH"
      },
      "execution_count": 55,
      "outputs": []
    },
    {
      "cell_type": "code",
      "source": [
        "inputData.show(3)"
      ],
      "metadata": {
        "colab": {
          "base_uri": "https://localhost:8080/"
        },
        "id": "WO4c2g329no7",
        "outputId": "a339b22d-ce87-4dd3-eadb-f4635d211752"
      },
      "execution_count": 59,
      "outputs": [
        {
          "output_type": "stream",
          "name": "stdout",
          "text": [
            "+---------+--------+------------------+-----------+--------------+----------+----------+-------------+------------------+\n",
            "|longitude|latitude|housing_median_age|total_rooms|total_bedrooms|population|households|median_income|median_house_value|\n",
            "+---------+--------+------------------+-----------+--------------+----------+----------+-------------+------------------+\n",
            "|  -122.05|   37.37|              27.0|     3885.0|         661.0|    1537.0|     606.0|       6.6085|          344700.0|\n",
            "|   -118.3|   34.26|              43.0|     1510.0|         310.0|     809.0|     277.0|        3.599|          176500.0|\n",
            "|  -117.81|   33.78|              27.0|     3589.0|         507.0|    1484.0|     495.0|       5.7934|          270500.0|\n",
            "+---------+--------+------------------+-----------+--------------+----------+----------+-------------+------------------+\n",
            "only showing top 3 rows\n",
            "\n"
          ]
        }
      ]
    },
    {
      "cell_type": "code",
      "source": [
        "inputData.select(\"longitude\").show(5)"
      ],
      "metadata": {
        "colab": {
          "base_uri": "https://localhost:8080/"
        },
        "id": "_OUia81k94xZ",
        "outputId": "1bb09416-e71a-48ba-cc6e-fbd1c794b96c"
      },
      "execution_count": 57,
      "outputs": [
        {
          "output_type": "stream",
          "name": "stdout",
          "text": [
            "+---------+\n",
            "|longitude|\n",
            "+---------+\n",
            "|  -122.05|\n",
            "|   -118.3|\n",
            "|  -117.81|\n",
            "|  -118.36|\n",
            "|  -119.67|\n",
            "+---------+\n",
            "only showing top 5 rows\n",
            "\n"
          ]
        }
      ]
    },
    {
      "cell_type": "code",
      "source": [
        "inputData.filter(inputData.total_rooms > 1000).show(5)"
      ],
      "metadata": {
        "colab": {
          "base_uri": "https://localhost:8080/"
        },
        "id": "0fkL5guZIk5E",
        "outputId": "1eace38d-cf11-467c-f815-d0ea17d9a585"
      },
      "execution_count": 58,
      "outputs": [
        {
          "output_type": "stream",
          "name": "stdout",
          "text": [
            "+---------+--------+------------------+-----------+--------------+----------+----------+-------------+------------------+\n",
            "|longitude|latitude|housing_median_age|total_rooms|total_bedrooms|population|households|median_income|median_house_value|\n",
            "+---------+--------+------------------+-----------+--------------+----------+----------+-------------+------------------+\n",
            "|  -122.05|   37.37|              27.0|     3885.0|         661.0|    1537.0|     606.0|       6.6085|          344700.0|\n",
            "|   -118.3|   34.26|              43.0|     1510.0|         310.0|     809.0|     277.0|        3.599|          176500.0|\n",
            "|  -117.81|   33.78|              27.0|     3589.0|         507.0|    1484.0|     495.0|       5.7934|          270500.0|\n",
            "|  -119.67|   36.33|              19.0|     1241.0|         244.0|     850.0|     237.0|       2.9375|           81700.0|\n",
            "|  -119.56|   36.51|              37.0|     1018.0|         213.0|     663.0|     204.0|       1.6635|           67000.0|\n",
            "+---------+--------+------------------+-----------+--------------+----------+----------+-------------+------------------+\n",
            "only showing top 5 rows\n",
            "\n"
          ]
        }
      ]
    },
    {
      "cell_type": "code",
      "source": [
        "inputData.groupBy(\"households\").count().show(5)"
      ],
      "metadata": {
        "colab": {
          "base_uri": "https://localhost:8080/"
        },
        "id": "Jqnmy2meI4ea",
        "outputId": "a9d8cb70-48e6-4aa8-cf6c-8224d9adf4cb"
      },
      "execution_count": 60,
      "outputs": [
        {
          "output_type": "stream",
          "name": "stdout",
          "text": [
            "+----------+-----+\n",
            "|households|count|\n",
            "+----------+-----+\n",
            "|     305.0|    4|\n",
            "|     558.0|    2|\n",
            "|     496.0|    1|\n",
            "|     596.0|    5|\n",
            "|     299.0|    4|\n",
            "+----------+-----+\n",
            "only showing top 5 rows\n",
            "\n"
          ]
        }
      ]
    },
    {
      "cell_type": "code",
      "source": [
        ""
      ],
      "metadata": {
        "id": "IJJoC7FdJTcd"
      },
      "execution_count": null,
      "outputs": []
    }
  ]
}